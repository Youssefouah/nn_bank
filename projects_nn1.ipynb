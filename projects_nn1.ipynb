{
 "cells": [
  {
   "cell_type": "markdown",
   "metadata": {},
   "source": [
    "Bank Marketing\n",
    "Abstract:\n",
    "The data is related with direct marketing campaigns (phone calls) of a Portuguese banking institution. The classification goal is to predict if the client will subscribe a term deposit (variable y).\n",
    "\n",
    "Data Set Information:\n",
    "The data is related with direct marketing campaigns of a Portuguese banking institution. The marketing campaigns were based on phone calls. Often, more than one contact to the same client was required, in order to access if the product (bank term deposit) would be ('yes') or not ('no') subscribed.\n",
    "\n",
    "Attribute Information:\n",
    "Bank client data:\n",
    "Age (numeric)\n",
    "Job : type of job (categorical: 'admin.', 'blue-collar', 'entrepreneur', 'housemaid', 'management', 'retired', 'self-employed', 'services', 'student', 'technician', 'unemployed', 'unknown')\n",
    "\n",
    "Marital : marital status (categorical: 'divorced', 'married', 'single', 'unknown' ; note: 'divorced' means divorced or widowed)\n",
    "\n",
    "Education (categorical: 'basic.4y', 'basic.6y', 'basic.9y', 'high.school', 'illiterate', 'professional.course', 'university.degree', 'unknown')\n",
    "\n",
    "Default: has credit in default? (categorical: 'no', 'yes', 'unknown')\n",
    "\n",
    "Housing: has housing loan? (categorical: 'no', 'yes', 'unknown')\n",
    "\n",
    "Loan: has personal loan? (categorical: 'no', 'yes', 'unknown')\n",
    "\n",
    "Related with the last contact of the current campaign:\n",
    "\n",
    "Contact: contact communication type (categorical:\n",
    "'cellular','telephone')\n",
    "\n",
    "Month: last contact month of year (categorical: 'jan', 'feb', 'mar',\n",
    "…, 'nov', 'dec')\n",
    "\n",
    "Day_of_week: last contact day of the week (categorical:\n",
    "'mon','tue','wed','thu','fri')\n",
    "\n",
    "Duration: last contact duration, in seconds (numeric). Important\n",
    "note: this attribute highly affects the output target (e.g., if\n",
    "duration=0 then y='no'). Yet, the duration is not known before a call\n",
    "is performed. Also, after the end of the call y is obviously known.\n",
    "Thus, this input should only be included for benchmark purposes and\n",
    "should be discarded if the intention is to have a realistic\n",
    "predictive model.\n",
    "\n",
    "Other attributes:\n",
    "\n",
    "Campaign: number of contacts performed during this campaign and for\n",
    "this client (numeric, includes last contact)\n",
    "\n",
    "Pdays: number of days that passed by after the client was last\n",
    "contacted from a previous campaign (numeric; 999 means client was not\n",
    "previously contacted)\n",
    "\n",
    "Previous: number of contacts performed before this campaign and for\n",
    "this client (numeric)\n",
    "\n",
    "Poutcome: outcome of the previous marketing campaign (categorical:\n",
    "'failure','nonexistent','success')\n",
    "\n",
    "Social and economic context attributes\n",
    "Emp.var.rate: employment variation rate - quarterly indicator\n",
    "(numeric)\n",
    "\n",
    "Cons.price.idx: consumer price index - monthly indicator (numeric)\n",
    "\n",
    "Cons.conf.idx: consumer confidence index - monthly indicator\n",
    "(numeric)\n",
    "\n",
    "Euribor3m: euribor 3 month rate - daily indicator (numeric)\n",
    "Nr.employed: number of employees - quarterly indicator (numeric)\n",
    "\n",
    "Output variable (desired target):\n",
    "y - has the client subscribed a term deposit? (binary: 'yes', 'no')"
   ]
  },
  {
   "cell_type": "code",
   "execution_count": null,
   "metadata": {},
   "outputs": [],
   "source": [
    "import pandas as pd\n",
    "import numpy as np \n",
    "import matplotlib.pyplot as plt\n",
    "import plotly.express as px\n",
    "import seaborn as sns"
   ]
  },
  {
   "cell_type": "markdown",
   "metadata": {},
   "source": [
    "<h1> EDA <h1>"
   ]
  },
  {
   "cell_type": "code",
   "execution_count": null,
   "metadata": {},
   "outputs": [],
   "source": [
    "df = pd.read_csv(\"bank.csv\",delimiter=\";\")\n",
    "print(df.shape)\n",
    "\n",
    "df.head()"
   ]
  },
  {
   "cell_type": "code",
   "execution_count": null,
   "metadata": {},
   "outputs": [],
   "source": [
    "df.info()"
   ]
  },
  {
   "cell_type": "code",
   "execution_count": null,
   "metadata": {},
   "outputs": [],
   "source": [
    "#know number of column NAN\n",
    "df.isna().sum()"
   ]
  },
  {
   "cell_type": "code",
   "execution_count": null,
   "metadata": {},
   "outputs": [],
   "source": [
    "#influnce the age by the target y\n",
    "fig = px.histogram(df, x=\"age\",title=\"frequence the age client of this data\", nbins=10)\n",
    "#fig.update(xaxis_title = \"Age\",yaxis_title = \"Frequence\")\n",
    "fig.update_xaxes(title_text=\"Age\")\n",
    "fig.update_yaxes(title_text=\"Frequency\")\n",
    "fig.show()\n",
    "#the most client for this compaign between 30 and 50 years old"
   ]
  },
  {
   "cell_type": "code",
   "execution_count": null,
   "metadata": {},
   "outputs": [],
   "source": [
    "#modeifier column age\n",
    "df_age = pd.DataFrame()\n",
    "df_age[\"Age\"] = df[\"age\"].copy()\n",
    "df_age[\"y\"] = df[\"y\"].copy()\n",
    "for i,k in zip(df_age[\"Age\"].index,df_age[\"Age\"].values):\n",
    "    if k <= 30 :\n",
    "        df_age[\"Age\"][i] = \"<30 y_old\"\n",
    "    if 30 <= k < 40 :\n",
    "        df_age[\"Age\"][i] = \"[30-40[ y_old\"  \n",
    "    if 40 <= k < 50 :\n",
    "        df_age[\"Age\"][i] = \"[40-50[ y_old\"\n",
    "    if 50 <= k < 60 :\n",
    "        df_age[\"Age\"][i] = \"[50-60[ y_old\"\n",
    "    if k >= 60 :\n",
    "        df_age[\"Age\"][i] = \">60 y_old\"          \n",
    " \n",
    " #we see here influence the age for target\n",
    "fig = px.bar(data_frame=df_age,x=\"Age\",color=\"y\",title=\" influence Age about target\", barmode='group')\n",
    "fig.update_xaxes(title_text=\"Age\")\n",
    "fig.update_yaxes(title_text=\"Frequency\")\n",
    "fig.show()\n",
    "# we see here though people bigger than 60 years old and smaller than 30 are little but they are percent very important  subscribed a term deposit"
   ]
  },
  {
   "cell_type": "code",
   "execution_count": null,
   "metadata": {},
   "outputs": [],
   "source": [
    "fig = px.bar(data_frame=df,x=\"marital\",color=\"y\",title=\" influence marital about target\", barmode='group')\n",
    "fig.update_xaxes(title_text=\"Marital Status\")\n",
    "fig.update_yaxes(title_text=\"Frequency\")\n",
    "fig.show()"
   ]
  },
  {
   "cell_type": "code",
   "execution_count": null,
   "metadata": {},
   "outputs": [],
   "source": [
    "# Scatter plot with Seaborn\n",
    "plt.figure(figsize=(20, 10))\n",
    "\n",
    "# plot Marital\n",
    "plt.subplot(2, 2, 1)\n",
    "table_marital = pd.pivot_table(df, index=[\"marital\",\"y\"], aggfunc='size').reset_index(name='count')\n",
    "table_marital.columns = [\"Marital\", \"Target\",\"Frequence\"]\n",
    "table_marital\n",
    "sns.barplot(data = table_marital , x=\"Marital\" , y=\"Frequence\",hue=\"Target\")\n",
    "plt.title(\"influance Marital\")\n",
    "plt.xlabel(\"Status\")\n",
    "plt.ylabel(\"Frequence\")\n",
    "\n",
    "\n",
    "# plot Education\n",
    "plt.subplot(2, 2, 2)\n",
    "table_education = pd.pivot_table(df, index=[\"education\",\"y\"], aggfunc='size').reset_index(name='count')\n",
    "table_education.columns = [\"education\", \"Target1\",\"Frequence1\"]\n",
    "table_education\n",
    "sns.barplot(data = table_education , x=\"education\" , y=\"Frequence1\",hue=\"Target1\")\n",
    "plt.title(\"influance Education\")\n",
    "plt.xlabel(\"education\")\n",
    "plt.ylabel(\"Frequence\")\n",
    "\n",
    "# plot default\n",
    "plt.subplot(2, 2, 3)\n",
    "table_default = pd.pivot_table(df, index=[\"default\",\"y\"], aggfunc='size').reset_index(name='count')\n",
    "table_default.columns = [\"default\", \"Target3\",\"Frequence3\"]\n",
    "table_default\n",
    "sns.barplot(data = table_default , x=\"default\" , y=\"Frequence3\",hue=\"Target3\")\n",
    "plt.title(\"influance Default\")\n",
    "plt.xlabel(\"default\")\n",
    "plt.ylabel(\"Frequence\")\n",
    "\n",
    "# plot Housing\n",
    "plt.subplot(2, 2, 4)\n",
    "table_housing = pd.pivot_table(df, index=[\"housing\",\"y\"], aggfunc='size').reset_index(name='count')\n",
    "table_housing.columns = [\"housing\", \"Target\",\"Frequence\"]\n",
    "table_housing\n",
    "sns.barplot(data = table_housing , x=\"housing\" , y=\"Frequence\",hue=\"Target\")\n",
    "plt.title(\"influance housing\")\n",
    "plt.xlabel(\"housing\")\n",
    "plt.ylabel(\"Frequence\")"
   ]
  },
  {
   "cell_type": "code",
   "execution_count": null,
   "metadata": {},
   "outputs": [],
   "source": [
    "#sns.pairplot(df,hue = \"y\")\n",
    "# Scatter plot with Seaborn\n",
    "plt.figure(figsize=(20, 10))\n",
    "\n",
    "# plot loan\n",
    "plt.subplot(2, 2, 1)\n",
    "table_loan = pd.pivot_table(df, index=[\"loan\",\"y\"], aggfunc='size').reset_index(name='count')\n",
    "table_loan.columns = [\"loan\", \"Target\",\"Frequence\"]\n",
    "table_loan\n",
    "sns.barplot(data = table_loan , x=\"loan\" , y=\"Frequence\",hue=\"Target\")\n",
    "plt.title(\"influance loan\")\n",
    "plt.xlabel(\"loan\")\n",
    "plt.ylabel(\"Frequence\")\n",
    "\n",
    "\n",
    "# plot Contact\n",
    "plt.subplot(2, 2, 2)\n",
    "table_contact = pd.pivot_table(df, index=[\"contact\",\"y\"], aggfunc='size').reset_index(name='count')\n",
    "table_contact.columns = [\"contact\", \"Target1\",\"Frequence1\"]\n",
    "table_contact\n",
    "sns.barplot(data = table_contact , x=\"contact\" , y=\"Frequence1\",hue=\"Target1\")\n",
    "plt.title(\"influance contact\")\n",
    "plt.xlabel(\"contact\")\n",
    "plt.ylabel(\"Frequence\")\n",
    "\n",
    "# plot month\n",
    "plt.subplot(2, 2, 3)\n",
    "table_month = pd.pivot_table(df, index=[\"month\",\"y\"], aggfunc='size').reset_index(name='count')\n",
    "table_month.columns = [\"month\", \"Target3\",\"Frequence3\"]\n",
    "table_month\n",
    "sns.barplot(data = table_month , x=\"month\" , y=\"Frequence3\",hue=\"Target3\")\n",
    "plt.title(\"influance month\")\n",
    "plt.xlabel(\"month\")\n",
    "plt.ylabel(\"Frequence\")\n",
    "\n",
    "# plot poutcome\n",
    "plt.subplot(2, 2, 4)\n",
    "table_poutcome = pd.pivot_table(df, index=[\"poutcome\",\"y\"], aggfunc='size').reset_index(name='count')\n",
    "table_poutcome.columns = [\"poutcome\", \"Target3\",\"Frequence3\"]\n",
    "table_poutcome\n",
    "sns.barplot(data = table_poutcome , x=\"poutcome\" , y=\"Frequence3\",hue=\"Target3\")\n",
    "plt.title(\"influance poutcome\")\n",
    "plt.xlabel(\"poutcome\")\n",
    "plt.ylabel(\"Frequence\")\n"
   ]
  },
  {
   "cell_type": "markdown",
   "metadata": {},
   "source": [
    "1-we see the best month for this compaign are dec and oct and sep and mar\n",
    "2-when poutcome sucess the probabilty for sucess this compaign is also bigger to sucess\n",
    "3-contact with telephone is more perfomance\n",
    "4 - in general loan affect about probality of sucess"
   ]
  },
  {
   "cell_type": "code",
   "execution_count": null,
   "metadata": {},
   "outputs": [],
   "source": [
    "#delete columns influence directly for target\n",
    "df = df.drop(columns=[\"duration\",\"balance\"])"
   ]
  },
  {
   "cell_type": "markdown",
   "metadata": {},
   "source": [
    "<h1>Split<h1>"
   ]
  },
  {
   "cell_type": "code",
   "execution_count": null,
   "metadata": {},
   "outputs": [],
   "source": [
    "#split data\n",
    "target = df[\"y\"]\n",
    "X = df.drop(columns=\"y\")"
   ]
  },
  {
   "cell_type": "code",
   "execution_count": null,
   "metadata": {},
   "outputs": [],
   "source": [
    "X.head()\n",
    "#target.value_counts()"
   ]
  },
  {
   "cell_type": "code",
   "execution_count": null,
   "metadata": {},
   "outputs": [],
   "source": [
    "from sklearn.preprocessing import LabelEncoder,StandardScaler\n",
    "from sklearn.model_selection import train_test_split\n",
    "\n",
    "clomuns = X.columns\n",
    "#prepare tranform\n",
    "transform_scaler = StandardScaler()\n",
    "transform_categorical = LabelEncoder()\n",
    "\n",
    "#transfor for target\n",
    "income_tar = {\"no\":0,\"yes\":1}\n",
    "target = target.replace(income_tar).astype(\"int\")\n",
    "\n",
    "#transform for categorical column \n",
    "cols_cat = X. select_dtypes(include=[\"object\"]).columns\n",
    "for col in cols_cat:\n",
    "    X[col] = transform_categorical.fit_transform(X[col])\n",
    "\n",
    "#scaler data\n",
    "X = transform_scaler.fit_transform(X)\n",
    "X = pd.DataFrame(X,columns=clomuns)\n",
    "\n",
    "#split data\n",
    "X_train,X_test,y_train,y_test = train_test_split(X,target,test_size=0.2)\n",
    "\n",
    "print('X_train:',X_train.shape)\n",
    "print('y_train:',y_train.shape)\n",
    "print('X_test:',X_test.shape)\n",
    "print('y_test:',y_test.shape)"
   ]
  },
  {
   "cell_type": "markdown",
   "metadata": {},
   "source": [
    "<h1>Module<h1>"
   ]
  },
  {
   "cell_type": "code",
   "execution_count": null,
   "metadata": {},
   "outputs": [],
   "source": [
    "from keras import layers,callbacks\n",
    "from keras.models import Sequential\n",
    "\n",
    "#module \n",
    "module = Sequential()\n",
    "module.add(layers.Dense(256,activation='relu',input_shape=(X_train.shape[1],)))\n",
    "module.add(layers.Dense(64,activation='relu'))\n",
    "module.add(layers.Dense(32,activation='relu'))\n",
    "module.add(layers.Dense(1,activation=\"sigmoid\"))\n",
    "module.summary()\n",
    "\n"
   ]
  },
  {
   "cell_type": "code",
   "execution_count": null,
   "metadata": {},
   "outputs": [],
   "source": [
    "# Define EarlyStopping callback\n",
    "early_stopping = callbacks.EarlyStopping(\n",
    "    monitor='val_accuracy',  # Monitor validation accuracy\n",
    "    patience=20,               # Number of epochs with no improvement after which training will be stopped\n",
    "    min_delta=0.01,           # Minimum change to qualify as an improvement\n",
    "    mode='max',               # 'max' means training will stop when the quantity monitored has stopped increasing\n",
    "    verbose=1                 # Print messages about early stopping to the console\n",
    ")\n",
    "\n",
    "module.compile(optimizer=\"adam\",loss=\"binary_crossentropy\",metrics=['accuracy'])\n",
    "module.fit(X_train,y_train,validation_data=(X_test,y_test),callbacks=[early_stopping],epochs=100)"
   ]
  },
  {
   "cell_type": "code",
   "execution_count": null,
   "metadata": {},
   "outputs": [],
   "source": [
    "#evualute my model\n",
    "test_loss, test_acc = module.evaluate(X_test, y_test, verbose=2)\n",
    "test_loss, test_acc"
   ]
  },
  {
   "cell_type": "code",
   "execution_count": null,
   "metadata": {},
   "outputs": [],
   "source": [
    "#predictions\n",
    "preds = module.predict(X_test).reshape(-1,)\n",
    "binary_preds = (preds > 0.5).astype(int)\n",
    "print(binary_preds.shape)\n",
    "\n"
   ]
  },
  {
   "cell_type": "code",
   "execution_count": null,
   "metadata": {},
   "outputs": [],
   "source": [
    "#preds VS y_test\n",
    "\n",
    "data = {\n",
    "    \"y_test\" : y_test,\n",
    "    \"predections\" : binary_preds\n",
    "}\n",
    "data = pd.DataFrame(data)\n",
    "data"
   ]
  }
 ],
 "metadata": {
  "kernelspec": {
   "display_name": "Python 3",
   "language": "python",
   "name": "python3"
  },
  "language_info": {
   "codemirror_mode": {
    "name": "ipython",
    "version": 3
   },
   "file_extension": ".py",
   "mimetype": "text/x-python",
   "name": "python",
   "nbconvert_exporter": "python",
   "pygments_lexer": "ipython3",
   "version": "3.11.7"
  }
 },
 "nbformat": 4,
 "nbformat_minor": 2
}
